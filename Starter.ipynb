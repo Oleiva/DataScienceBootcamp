{
 "cells": [
  {
   "cell_type": "markdown",
   "metadata": {},
   "source": [
    "<b>How to install Spark on Mac OS X </b>\n",
    " \n",
    "Option 1:  brew install apache-spark \n",
    "<p>Instructions: https://oleweidner.com/blog/2015/getting-started-with-spark-on-osx/\n",
    "\n",
    "\n",
    "<p>Option 2: Manual Installation on windows and mac \n",
    "\n",
    "<p><b style=\"color:green;\">Instructions: </b>https://oleweidner.com/blog/2015/getting-started-with-spark-on-osx/\n",
    "\n",
    "<p><b style=\"color:green;\">Instructions: </b>http://www.tutorialspoint.com/apache_spark/apache_spark_installation.htm\n",
    "\n",
    "<p><b style=\"color:green;\">Get ipython/jupyter: </b>sudo pip install jupyter\n",
    "\n",
    "<p><b style=\"color:green;\">Install required libraries: </b>sudo  pip install -r requirements.txt \n",
    "\n",
    "Start <b>ipython notebook</b> from command line.\n"
   ]
  },
  {
   "cell_type": "markdown",
   "metadata": {},
   "source": [
    "Check Spark installation  "
   ]
  },
  {
   "cell_type": "code",
   "execution_count": null,
   "metadata": {
    "collapsed": false
   },
   "outputs": [
    {
     "name": "stdout",
     "output_type": "stream",
     "text": [
      "Python 2.7.11 |Anaconda 2.5.0 (x86_64)| (default, Dec  6 2015, 18:57:58) \n",
      "[GCC 4.2.1 (Apple Inc. build 5577)] on darwin\n",
      "Type \"help\", \"copyright\", \"credits\" or \"license\" for more information.\n",
      "Anaconda is brought to you by Continuum Analytics.\n",
      "Please check out: http://continuum.io/thanks and https://anaconda.org\n",
      "Using Spark's default log4j profile: org/apache/spark/log4j-defaults.properties\n",
      "16/07/20 11:03:30 INFO SparkContext: Running Spark version 1.6.1\n",
      "16/07/20 11:03:31 WARN NativeCodeLoader: Unable to load native-hadoop library for your platform... using builtin-java classes where applicable\n",
      "16/07/20 11:03:32 WARN Utils: Your hostname, LMDV-BARBURAO resolves to a loopback address: 127.0.0.1; using 172.20.1.226 instead (on interface en0)\n",
      "16/07/20 11:03:32 WARN Utils: Set SPARK_LOCAL_IP if you need to bind to another address\n",
      "16/07/20 11:03:32 INFO SecurityManager: Changing view acls to: bkamble\n",
      "16/07/20 11:03:32 INFO SecurityManager: Changing modify acls to: bkamble\n",
      "16/07/20 11:03:32 INFO SecurityManager: SecurityManager: authentication disabled; ui acls disabled; users with view permissions: Set(bkamble); users with modify permissions: Set(bkamble)\n",
      "16/07/20 11:03:32 INFO Utils: Successfully started service 'sparkDriver' on port 51987.\n",
      "16/07/20 11:03:32 INFO Slf4jLogger: Slf4jLogger started\n",
      "16/07/20 11:03:32 INFO Remoting: Starting remoting\n",
      "16/07/20 11:03:32 INFO Remoting: Remoting started; listening on addresses :[akka.tcp://sparkDriverActorSystem@172.20.1.226:51989]\n",
      "16/07/20 11:03:32 INFO Utils: Successfully started service 'sparkDriverActorSystem' on port 51989.\n",
      "16/07/20 11:03:32 INFO SparkEnv: Registering MapOutputTracker\n",
      "16/07/20 11:03:32 INFO SparkEnv: Registering BlockManagerMaster\n",
      "16/07/20 11:03:32 INFO DiskBlockManager: Created local directory at /private/var/folders/5f/7f3n94n960j5f72986glc1grnrxrfn/T/blockmgr-663fd974-db25-43de-b63d-d538d96853f4\n",
      "16/07/20 11:03:32 INFO MemoryStore: MemoryStore started with capacity 511.1 MB\n",
      "16/07/20 11:03:33 INFO SparkEnv: Registering OutputCommitCoordinator\n",
      "16/07/20 11:03:33 WARN Utils: Service 'SparkUI' could not bind on port 4040. Attempting port 4041.\n",
      "16/07/20 11:03:33 WARN Utils: Service 'SparkUI' could not bind on port 4041. Attempting port 4042.\n",
      "16/07/20 11:03:33 WARN Utils: Service 'SparkUI' could not bind on port 4042. Attempting port 4043.\n",
      "16/07/20 11:03:33 WARN Utils: Service 'SparkUI' could not bind on port 4043. Attempting port 4044.\n",
      "16/07/20 11:03:33 WARN Utils: Service 'SparkUI' could not bind on port 4044. Attempting port 4045.\n",
      "16/07/20 11:03:33 INFO Utils: Successfully started service 'SparkUI' on port 4045.\n",
      "16/07/20 11:03:33 INFO SparkUI: Started SparkUI at http://172.20.1.226:4045\n",
      "16/07/20 11:03:33 INFO Executor: Starting executor ID driver on host localhost\n",
      "16/07/20 11:03:33 INFO Utils: Successfully started service 'org.apache.spark.network.netty.NettyBlockTransferService' on port 51990.\n",
      "16/07/20 11:03:33 INFO NettyBlockTransferService: Server created on 51990\n",
      "16/07/20 11:03:33 INFO BlockManagerMaster: Trying to register BlockManager\n",
      "16/07/20 11:03:33 INFO BlockManagerMasterEndpoint: Registering block manager localhost:51990 with 511.1 MB RAM, BlockManagerId(driver, localhost, 51990)\n",
      "16/07/20 11:03:33 INFO BlockManagerMaster: Registered BlockManager\n",
      "Welcome to\n",
      "      ____              __\n",
      "     / __/__  ___ _____/ /__\n",
      "    _\\ \\/ _ \\/ _ `/ __/  '_/\n",
      "   /__ / .__/\\_,_/_/ /_/\\_\\   version 1.6.1\n",
      "      /_/\n",
      "\n",
      "Using Python version 2.7.11 (default, Dec  6 2015 18:57:58)\n",
      "SparkContext available as sc, HiveContext available as sqlContext.\n",
      ">>> "
     ]
    }
   ],
   "source": [
    "!pyspark"
   ]
  },
  {
   "cell_type": "markdown",
   "metadata": {
    "collapsed": true
   },
   "source": [
    "<h2>Run on Hadoop Cluster</h2>\n",
    "<p>/opt/spark/1.5.1/bin/spark-submit --driver-memory 4G --total-executor-cores 150 --master yarn-client /home/bkamble/Script.py"
   ]
  },
  {
   "cell_type": "code",
   "execution_count": null,
   "metadata": {
    "collapsed": true
   },
   "outputs": [],
   "source": []
  }
 ],
 "metadata": {
  "kernelspec": {
   "display_name": "Python 2",
   "language": "python",
   "name": "python2"
  },
  "language_info": {
   "codemirror_mode": {
    "name": "ipython",
    "version": 2
   },
   "file_extension": ".py",
   "mimetype": "text/x-python",
   "name": "python",
   "nbconvert_exporter": "python",
   "pygments_lexer": "ipython2",
   "version": "2.7.11"
  }
 },
 "nbformat": 4,
 "nbformat_minor": 0
}
